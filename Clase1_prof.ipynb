{
 "cells": [
  {
   "cell_type": "code",
   "execution_count": 6,
   "metadata": {},
   "outputs": [
    {
     "name": "stdout",
     "output_type": "stream",
     "text": [
      "Hola Mundo!\n",
      "22\n"
     ]
    }
   ],
   "source": [
    "#Esto es un comentario de una linea\n",
    "''' Esto es un comentario de varias lineas '''\n",
    "print(\"Hola Mundo!\")\n",
    "A = 22\n",
    "print(A)"
   ]
  },
  {
   "cell_type": "markdown",
   "metadata": {},
   "source": [
    "**Como se crea una variable**"
   ]
  },
  {
   "cell_type": "code",
   "execution_count": 7,
   "metadata": {},
   "outputs": [
    {
     "name": "stdout",
     "output_type": "stream",
     "text": [
      "Esto es una constante numérica 12345\n",
      "Esto es una cada de texto hola mundo!\n",
      "Esto es una variable numérica 3\n",
      "Esto es una cada de texto hola\n"
     ]
    }
   ],
   "source": [
    "print(\"Esto es una constante numérica \"+str(12345))\n",
    "print(\"Esto es una cada de texto \"+\"hola mundo!\")\n",
    "variableNumerica=3\n",
    "variableString=\"hola\"\n",
    "print(\"Esto es una variable numérica \"+str(variableNumerica))\n",
    "print(\"Esto es una cada de texto \"+variableString)"
   ]
  },
  {
   "cell_type": "code",
   "execution_count": 8,
   "metadata": {},
   "outputs": [
    {
     "name": "stdout",
     "output_type": "stream",
     "text": [
      "<class 'int'>\n"
     ]
    }
   ],
   "source": [
    "#type nos permite saber el tipo de uan variable\n",
    "variableNumerica = 2\n",
    "print(type(variableNumerica))"
   ]
  },
  {
   "cell_type": "code",
   "execution_count": 9,
   "metadata": {},
   "outputs": [
    {
     "name": "stdout",
     "output_type": "stream",
     "text": [
      "e\n",
      "es u\n",
      "Esto \n",
      "es una cadena\n"
     ]
    }
   ],
   "source": [
    "cadena=\"Esto es una cadena\"\n",
    "print(cadena[5])\n",
    "print(cadena[5:9])\n",
    "print(cadena[:5])\n",
    "print(cadena[5:])"
   ]
  },
  {
   "cell_type": "markdown",
   "metadata": {},
   "source": [
    "Los conjuntos son collecciones de datos no ordenadas y sin elementos reptidos."
   ]
  },
  {
   "cell_type": "code",
   "execution_count": 10,
   "metadata": {},
   "outputs": [
    {
     "name": "stdout",
     "output_type": "stream",
     "text": [
      "{'empanada', 'paella', 'fabada', 'jamón', 'cocido'}\n",
      "<class 'set'>\n",
      "empanada\n",
      "empanada\n",
      "{'paella', 'fabada', 'jamón', 'cocido'}\n",
      "{'paella', 'fabada', 'judias', 'jamón', 'cocido'}\n",
      "{'paella', 'fabada', 'judias', 'jamón', 'cocido'}\n"
     ]
    }
   ],
   "source": [
    "#Esto es una conjunto\n",
    "gastro= {'paella','cocido','fabada','empanada','jamón'}\n",
    "print(gastro)\n",
    "print(type(gastro))\n",
    "\n",
    "#Iter crea un iterador\n",
    "print(next(iter(gastro)))\n",
    "print(gastro.pop())\n",
    "print(gastro)\n",
    "gastro.add(\"judias\")\n",
    "print(gastro)\n",
    "gastro.add(\"jamón\")\n",
    "print(gastro)\n",
    "#un conjunto no tiene elementos repetidos"
   ]
  },
  {
   "cell_type": "markdown",
   "metadata": {},
   "source": [
    "Las listas son una de las estructuras de datos mas usadas en python."
   ]
  },
  {
   "cell_type": "code",
   "execution_count": 11,
   "metadata": {},
   "outputs": [
    {
     "name": "stdout",
     "output_type": "stream",
     "text": [
      "['paella', 'cocido', 'fabada', 'empanada', 'jamón']\n",
      "<class 'list'>\n",
      "{'empanada', 'paella', 'fabada', 'jamón', 'cocido'}\n",
      "<class 'set'>\n",
      "True\n",
      "True\n",
      "['paella', 'cocido', 'fabada', 'empanada', 'jamón', 'lentejas']\n",
      "{'empanada', 'paella', 'fabada', 'jamón', 'cocido'}\n",
      "0\n"
     ]
    }
   ],
   "source": [
    "#Esto es una lista\n",
    "gastro = ['paella','cocido','fabada','empanada','jamón']\n",
    "print(gastro)\n",
    "print(type(gastro))\n",
    "#Convierte una lista en un conjunto\n",
    "gastroSet=set(gastro)\n",
    "print(gastroSet)\n",
    "print(type(gastroSet))\n",
    "\n",
    "#el operador in no dice si un elemento esta en una lista o en un conjunto\n",
    "en_asturias= 'fabada' in gastro\n",
    "print(en_asturias)\n",
    "en_asturias_conjunto= 'fabada' in gastroSet\n",
    "print(en_asturias_conjunto)\n",
    "\n",
    "# gastro. y pulsando tab te aparece una lista de funciones que se pueden invocar desde la variablle gastro.\n",
    "gastro.insert(len(gastro),'lentejas')\n",
    "print(gastro)\n",
    "print(gastroSet)\n",
    "print(gastro.index('paella'))"
   ]
  },
  {
   "cell_type": "markdown",
   "metadata": {},
   "source": [
    "Las tuplas son secuencias, igual que las cadenas, y se puede utilizar la misma notación de índices que en las cadenas para obtener cada una de **sus componentes**. Todas las secuencias en Python comienzan a numerarse desde 0\n",
    "Al igual que con las cadenas, las componentes de las tuplas no pueden ser modificadas"
   ]
  },
  {
   "cell_type": "code",
   "execution_count": 2,
   "metadata": {},
   "outputs": [],
   "source": [
    "tupla=(1,2,3,4,5)\n",
    "#tupla[0]=9"
   ]
  },
  {
   "cell_type": "markdown",
   "metadata": {},
   "source": [
    "Los diccionarios permite asignar parajes de clave=valor. En realidad los diccionarios son conjuntos especiales."
   ]
  },
  {
   "cell_type": "code",
   "execution_count": 13,
   "metadata": {},
   "outputs": [
    {
     "name": "stdout",
     "output_type": "stream",
     "text": [
      "{'nombre': 'juan', 'edad': 22, 'cursos': ['python', 'machine learning', 'R']}\n",
      "juan\n",
      "22\n",
      "['python', 'machine learning', 'R']\n",
      "Recorrido del diccionario\n",
      "nombre : juan\n",
      "edad : 22\n",
      "cursos : ['python', 'machine learning', 'R']\n",
      "Recorrido del diccionario\n"
     ]
    }
   ],
   "source": [
    "diccionario = {'nombre':'juan', 'edad' : 22, 'cursos': ['python','machine learning','R']}\n",
    "print(diccionario)\n",
    "print(diccionario['nombre'])\n",
    "print(diccionario['edad'])\n",
    "print(diccionario['cursos'])\n",
    "#recorrido\n",
    "print(\"Recorrido del diccionario\")\n",
    "for key in diccionario:\n",
    "    print(key, \":\",diccionario[key] )\n",
    "\n",
    "diccionario.clear()\n",
    "print(\"Recorrido del diccionario\")\n",
    "for key in diccionario:\n",
    "    print(key, \":\",diccionario[key] )"
   ]
  },
  {
   "cell_type": "code",
   "execution_count": 13,
   "metadata": {},
   "outputs": [
    {
     "name": "stdout",
     "output_type": "stream",
     "text": [
      "3\n",
      "Positivo\n",
      "Positivo\n",
      "Positivo\n",
      "Positivo\n",
      "0\n",
      "0\n",
      "2\n",
      "4\n",
      "6\n",
      "8\n",
      "valor 0\n",
      "valor 1\n",
      "valor 2\n",
      "valor 3\n",
      "valor 4\n",
      "Fin del while\n"
     ]
    }
   ],
   "source": [
    "#Condicionales\n",
    "numero = 2\n",
    "numero = numero + 1\n",
    "print(numero)\n",
    "if numero < 0:\n",
    "    print(\"negativo\")\n",
    "elif numero > 0:\n",
    "    print(\"Positivo\")\n",
    "    print(\"Positivo\")\n",
    "    print(\"Positivo\")\n",
    "    print(\"Positivo\")\n",
    "else:\n",
    "    print(\"Cero\")\n",
    "    \n",
    "#Bucles\n",
    "list = range(0,10,2)\n",
    "\n",
    "for valor in range(0,10,2):\n",
    "    print(valor)\n",
    "    \n",
    "valor=0\n",
    "while (valor < 5):\n",
    "    print(\"valor \"+str(valor))\n",
    "    valor+=1\n",
    "#end while\n",
    "print(\"Fin del while\")\n"
   ]
  },
  {
   "cell_type": "code",
   "execution_count": 19,
   "metadata": {},
   "outputs": [
    {
     "name": "stdout",
     "output_type": "stream",
     "text": [
      "Roma\n",
      "Berlín\n",
      "Madrid\n",
      "Dublín\n",
      "Londres\n",
      "Paris\n",
      "---Iteradores---\n",
      "Roma\n",
      "Berlín\n",
      "Madrid\n",
      "Dublín\n",
      "Londres\n",
      "Paris\n"
     ]
    }
   ],
   "source": [
    "# Iteradores\n",
    "cities = {'Madrid', 'Paris', 'Berlín', 'Roma', 'Londres', 'Dublín'}\n",
    "\n",
    "for city in cities:\n",
    "    print(city)\n",
    "\n",
    "print('---Iteradores---')\n",
    "\n",
    "iterador = iter(cities)\n",
    "print(next(iterador))\n",
    "print(next(iterador))\n",
    "print(next(iterador))\n",
    "print(next(iterador))\n",
    "print(next(iterador))\n",
    "print(next(iterador))\n"
   ]
  },
  {
   "cell_type": "markdown",
   "metadata": {},
   "source": [
    "## Definición de funciones"
   ]
  },
  {
   "cell_type": "code",
   "execution_count": 36,
   "metadata": {},
   "outputs": [
    {
     "name": "stdout",
     "output_type": "stream",
     "text": [
      "4 8\n",
      " 5 es par\n",
      "10 25\n"
     ]
    }
   ],
   "source": [
    "def mifuncion(numero):\n",
    "    return numero, numero*2\n",
    "#end mifuncion\n",
    "\n",
    "n, n2 = mifuncion(4)\n",
    "print(str(n) + \" \" + str(n2))\n",
    "\n",
    "n2 = \"hola\"\n",
    "\n",
    "def es_par(numer0):\n",
    "    if (numero % 2 == 0):\n",
    "        return True\n",
    "    else:\n",
    "        return False\n",
    "    \n",
    "if es_par(5) :\n",
    "    print(\" 5 No es par \")\n",
    "else:\n",
    "    print(\" 5 es par\")\n",
    "    \n",
    "# funciones puede devolver más de un parámetro\n",
    "\n",
    "def funtionReturn2Params(numero):\n",
    "    return (numero*2, numero*numero)\n",
    "\n",
    "por2,elevadoA = funtionReturn2Params(5)\n",
    "print(str(por2) + \" \" + str(elevadoA))"
   ]
  },
  {
   "cell_type": "markdown",
   "metadata": {},
   "source": [
    "## Definiciones de clases"
   ]
  },
  {
   "cell_type": "code",
   "execution_count": 41,
   "metadata": {},
   "outputs": [
    {
     "name": "stdout",
     "output_type": "stream",
     "text": [
      "3150\n",
      "Rectangulo de juguete\n",
      "220\n",
      "1\n"
     ]
    }
   ],
   "source": [
    "class Figura:\n",
    "    def __init__(self, a):\n",
    "        self.name = a\n",
    "\n",
    "    \n",
    "    \n",
    "#Definición de clases en python\n",
    "class Rectangulo(Figura):\n",
    "    def __init__(self,x,y, a): # constructor\n",
    "        self.x = x #creación de parámetros internos\n",
    "        self.y = y\n",
    "        Figura.__init__(self,a)\n",
    "        \n",
    "    autor = \"anonimo\" # creación de parámetros de forma externa al constructor\n",
    "    descripcion=\"esto es un rectangulo\"\n",
    "    \n",
    "    def area(self):\n",
    "        return self.x*self.y\n",
    "    \n",
    "    def perimetro(self, number):\n",
    "        return 2*self.x*self.y\n",
    "    \n",
    "    def descripcion(self,text):\n",
    "        self.descripcion=text\n",
    "    \n",
    "rectangulo1 = Rectangulo(90,35,1)\n",
    "rectangulo2 = Rectangulo(20,11,1)\n",
    "print(rectangulo1.area())\n",
    "rectangulo1.descripcion(\"Rectangulo de juguete\")\n",
    "print(rectangulo1.descripcion)\n",
    "print(rectangulo2.area())\n",
    "print(rectangulo1.name)"
   ]
  },
  {
   "cell_type": "markdown",
   "metadata": {},
   "source": [
    "### Miembros privados\n",
    "Python no tiene miembros privados, pero existe una convención para tratar como privados los miembros que empiezan por _"
   ]
  },
  {
   "cell_type": "code",
   "execution_count": 43,
   "metadata": {},
   "outputs": [
    {
     "name": "stdout",
     "output_type": "stream",
     "text": [
      "Este método debería no llamarse desde fuera\n"
     ]
    }
   ],
   "source": [
    "class Rectangulo2:\n",
    "    def __init__(self,x,y): # constructor\n",
    "        self.x = x #creación de parámetros internos\n",
    "        self.y = y\n",
    "        \n",
    "    _autor = \"anonimo\" # creación de parámetros de forma externa al constructor y privado\n",
    "    _descripcion=\"esto es un rectangulo\"\n",
    "    \n",
    "    def area(self):\n",
    "        return self.x*self.y\n",
    "    \n",
    "    def perimetro(self, number):\n",
    "        return 2*self.x*self.y\n",
    "    \n",
    "    def descripcion(self,text):\n",
    "        self._descripcion=text\n",
    "    \n",
    "    def _privateMethod(self):\n",
    "        print('Este método debería no llamarse desde fuera')\n",
    "        \n",
    "rec = Rectangulo2(1,2)\n",
    "rec._privateMethod()"
   ]
  },
  {
   "cell_type": "markdown",
   "metadata": {},
   "source": [
    "## Dibujado de gráficas"
   ]
  },
  {
   "cell_type": "code",
   "execution_count": 45,
   "metadata": {},
   "outputs": [
    {
     "name": "stdout",
     "output_type": "stream",
     "text": [
      "<class 'matplotlib.figure.Figure'>\n",
      "<class 'matplotlib.axes._subplots.AxesSubplot'>\n",
      "<class 'numpy.ndarray'>\n",
      "<class 'numpy.ndarray'>\n",
      "<class 'matplotlib.cbook.silent_list'>\n",
      "<class 'int'>\n",
      "<class 'int'>\n"
     ]
    },
    {
     "data": {
      "image/png": "[encoded data removed]",
      "text/plain": [
       "<Figure size 432x288 with 1 Axes>"
      ]
     },
     "metadata": {
      "needs_background": "light"
     },
     "output_type": "display_data"
    },
    {
     "data": {
      "image/png": "[encoded data removed]",
      "text/plain": [
       "<Figure size 432x288 with 1 Axes>"
      ]
     },
     "metadata": {
      "needs_background": "light"
     },
     "output_type": "display_data"
    }
   ],
   "source": [
    "import numpy as np\n",
    "import matplotlib.pyplot as plt\n",
    "npoints = 100\n",
    "\n",
    "X = np.random.randn(npoints)\n",
    "Y = 0.4 * X\n",
    "plt.plot(X,Y)\n",
    "plt.grid()\n",
    "\n",
    "\n",
    "Num_puntos = 1500\n",
    "mu = 100  # media of distribution\n",
    "sigma = 15  # desviación estándar\n",
    "x = mu + sigma * np.random.randn(Num_puntos) #genera Num_puntos puntos aleatorios de media mu y desviación tipica sigma.\n",
    "\n",
    "#Dos gráficos en uno\n",
    "fig, ax = plt.subplots()\n",
    "print(type(fig))\n",
    "print(type(ax))\n",
    "# Preparamos un histograma en el subplot ax\n",
    "num_bins = 50 # numero de barras\n",
    "n, bins, patches = ax.hist(x, num_bins, density=1) \n",
    "print(type(n))\n",
    "print(type(bins))\n",
    "print(type(patches))\n",
    "print(type(sigma))\n",
    "print(type(mu))\n",
    "#función de una distribución normal de media mu y desviación tipica sigma.\n",
    "y = ((1 / (np.sqrt(2 * np.pi) * sigma)) *\n",
    "     np.exp(-0.5 * (1 / sigma * (bins - mu))**2))\n",
    "ax.plot(bins, y,'--') # mete los valores de las Y y las X y las dibuja\n",
    "ax.set_xlabel('Gente lista') #configura la leyenda de la grafica\n",
    "ax.set_ylabel('Probabilidad')\n",
    "ax.set_title('Histograma de CIs: $\\mu=100$, $\\sigma=15$')\n",
    "\n",
    "# Tweak spacing to prevent clipping of ylabel\n",
    "fig.tight_layout()\n",
    "plt.show()"
   ]
  },
  {
   "cell_type": "code",
   "execution_count": null,
   "metadata": {},
   "outputs": [],
   "source": []
  },
  {
   "cell_type": "code",
   "execution_count": null,
   "metadata": {},
   "outputs": [],
   "source": []
  },
  {
   "cell_type": "code",
   "execution_count": null,
   "metadata": {},
   "outputs": [],
   "source": []
  }
 ],
 "metadata": {
  "kernelspec": {
   "display_name": "Python 3",
   "language": "python",
   "name": "python3"
  },
  "language_info": {
   "codemirror_mode": {
    "name": "ipython",
    "version": 3
   },
   "file_extension": ".py",
   "mimetype": "text/x-python",
   "name": "python",
   "nbconvert_exporter": "python",
   "pygments_lexer": "ipython3",
   "version": "3.7.4"
  }
 },
 "nbformat": 4,
 "nbformat_minor": 2
}