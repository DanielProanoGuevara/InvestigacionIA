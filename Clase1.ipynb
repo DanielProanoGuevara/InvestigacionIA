{
 "cells": [
  {
   "cell_type": "markdown",
   "metadata": {},
   "source": [
    "*italic*\n",
    "\n",
    "***\n",
    "\n",
    "**bold**\n",
    "\n",
    "***\n",
    "--------------------------\n",
    "> blah blah blah quote\n",
    "\n",
    ">>blah bla blha2\n",
    ">>> blah blah blah 3\n",
    "---------------------------\n",
    "\n",
    "* Fruit:\n",
    "    * pear\n",
    "    * peaches\n",
    "    * plums\n",
    "        * Gala\n",
    "    * Oranges\n",
    "    * Berries\n",
    "        * Strawberries\n",
    "        * Blueberries\n",
    "2. Bread\n",
    "\n",
    "+ Log 1\n",
    "+ Log 2\n",
    "\n",
    "- Ind 1\n",
    "- Ind 2\n",
    "\n",
    "# Head1\n",
    "## Head2\n",
    "### Head3\n",
    "#### Head4\n",
    "\n",
    "*********************\n",
    "|Header|Header|Header|Header|\n",
    "|------|------|------|------|\n",
    "|Cell  |Cell  |Cell  | Cell |\n",
    "|Cell  |Cell  |Cell  | Cell |\n",
    "|Cell  |Cell  |Cell  | Cell |\n",
    "|Cell  |Cell  |Cell  | Cell |"
   ]
  },
  {
   "cell_type": "code",
   "execution_count": 1,
   "metadata": {},
   "outputs": [
    {
     "name": "stdout",
     "output_type": "stream",
     "text": [
      "Esto es una constante numerica: 12345\n",
      "Esto es una cadena de texto: hola que tal\n"
     ]
    }
   ],
   "source": [
    "# Comentario de una línea\n",
    "\n",
    "\"\"\"\n",
    "Comentario de varias líneas\n",
    "\"\"\"\n",
    "\n",
    "#Solo este tipo es reconocido realmente como comentario los triples comillas son un texto vacio sin valor\n",
    "\n",
    "#Constantes: imprimimos y comprobamos los resultados\n",
    "print(\"Esto es una constante numerica: \" + str(12345))\n",
    "print(\"Esto es una cadena de texto: \" + \"hola que tal\")"
   ]
  },
  {
   "cell_type": "code",
   "execution_count": 2,
   "metadata": {},
   "outputs": [
    {
     "name": "stdout",
     "output_type": "stream",
     "text": [
      "Esto es una constante numerica: 3\n",
      "Esto es una cadena de texto: Hola\n"
     ]
    }
   ],
   "source": [
    "# Variable numerica\n",
    "variable_numerica = 3\n",
    "\n",
    "# Variable cadena de texto (String)\n",
    "variable_string = \"Hola\"\n",
    "\n",
    "print(\"Esto es una constante numerica: \" + str(variable_numerica))\n",
    "print(\"Esto es una cadena de texto: \" + variable_string)"
   ]
  },
  {
   "cell_type": "code",
   "execution_count": 3,
   "metadata": {},
   "outputs": [],
   "source": [
    "#Para declarar una constante se declara todo el nombre con mayusculas\n",
    "CONSTANTE_PRUEBA = 5"
   ]
  },
  {
   "cell_type": "code",
   "execution_count": 4,
   "metadata": {},
   "outputs": [
    {
     "name": "stdout",
     "output_type": "stream",
     "text": [
      "<class 'int'>\n",
      "<class 'str'>\n"
     ]
    }
   ],
   "source": [
    "#Tipos de datos\n",
    "print(type(variable_numerica))\n",
    "print(type(variable_string))"
   ]
  },
  {
   "cell_type": "code",
   "execution_count": 5,
   "metadata": {},
   "outputs": [
    {
     "name": "stdout",
     "output_type": "stream",
     "text": [
      "El número 15 es impar\n",
      "El número 12 es par\n"
     ]
    }
   ],
   "source": [
    "# Funcion para saber si un numero es par o impar\n",
    "# Recibe un parametro de entrada para actuar en consecuencia\n",
    "\n",
    "def es_par(numero):\n",
    "    if (numero % 2 == 0):\n",
    "        print(\"El número \" + str(numero) + \" es par\")\n",
    "    else:\n",
    "        print(\"El número \" + str(numero) + \" es impar\")\n",
    "#Fin de la funcion\n",
    "#Indentacion es muy importante\n",
    "\n",
    "#Llamado a la funcion\n",
    "es_par(15)\n",
    "es_par(12)\n"
   ]
  },
  {
   "cell_type": "markdown",
   "metadata": {},
   "source": [
    "# Objetos en Python\n"
   ]
  },
  {
   "cell_type": "code",
   "execution_count": 8,
   "metadata": {},
   "outputs": [
    {
     "name": "stdout",
     "output_type": "stream",
     "text": [
      "Rectangulo de juguete\n",
      "220\n"
     ]
    }
   ],
   "source": [
    "#Clase rectangulo\n",
    "class Rectangulo:\n",
    "    def __init__(self, x, y):\n",
    "        self.x = x\n",
    "        self.y = y\n",
    "    descripcion = \"esto es un rectangulo\"\n",
    "    autor = \"anonimo\"\n",
    "    def area(self):\n",
    "        return self.x * self.y\n",
    "    def perimetro(self):\n",
    "        return 2 * self.x + 2 * self.y\n",
    "    def descripcion(self, text):\n",
    "        self.description = text\n",
    "    def nombreAutor(self, text):\n",
    "        self.author = text\n",
    "    def cambiaDimensiones(self, scale):\n",
    "        self.x = self.x * scale\n",
    "        self.y = self.y * scale\n",
    "        \n",
    "#Crear objeto\n",
    "rectangulo1 = Rectangulo(90, 35)\n",
    "rectangulo2 = Rectangulo(20, 11)\n",
    "\n",
    "#describir los rectangulos\n",
    "rectangulo1.descripcion(\"Rectangulo de juguete\")\n",
    "print(rectangulo1.description)\n",
    "print(rectangulo2.area())"
   ]
  },
  {
   "cell_type": "markdown",
   "metadata": {},
   "source": [
    "# Visualización con Mtplotlib"
   ]
  },
  {
   "cell_type": "code",
   "execution_count": 11,
   "metadata": {},
   "outputs": [
    {
     "data": {
      "image/png": "[encoded data removed]",
      "text/plain": [
       "<Figure size 432x288 with 1 Axes>"
      ]
     },
     "metadata": {
      "needs_background": "light"
     },
     "output_type": "display_data"
    }
   ],
   "source": [
    "# Un gráfico simple\n",
    "# Genera una distribución normal, centrada en x=0 y y=5\n",
    "import matplotlib.pyplot as plt\n",
    "import numpy as np\n",
    "%matplotlib inline\n",
    "\n",
    "N_points = 100\n",
    "x = np.random.randn(N_points)\n",
    "y = .4 * x\n",
    "plt.plot(x, y)\n",
    "plt.grid()"
   ]
  },
  {
   "cell_type": "markdown",
   "metadata": {},
   "source": [
    "## Algo más complejo"
   ]
  },
  {
   "cell_type": "code",
   "execution_count": 17,
   "metadata": {},
   "outputs": [
    {
     "data": {
      "image/png": "[encoded data removed]",
      "text/plain": [
       "<Figure size 432x288 with 1 Axes>"
      ]
     },
     "metadata": {
      "needs_background": "light"
     },
     "output_type": "display_data"
    }
   ],
   "source": [
    "#Algo más complejo\n",
    "import numpy as np\n",
    "import matplotlib.pyplot as plt\n",
    "%matplotlib inline\n",
    "#Semilla de números aleatorios para\n",
    "#Poder reproducir el resultado\n",
    "np.random.seed(1234)\n",
    "\n",
    "#~Generamos datos de ejemplo\n",
    "mu = 100 #media\n",
    "sigma = 15 #desviación típica\n",
    "x = mu + sigma * np.random.randn(437) \n",
    "\n",
    "num_bins = 50 #intervalos\n",
    "#esta funcion devuelve dos valores\n",
    "#ejecutar esta parte y comprobar histograma\n",
    "fig, ax = plt.subplots()\n",
    "\n",
    "#El histograma\n",
    "n, bins, patches = ax.hist(x, num_bins, density=1)\n",
    "\n",
    "#funcion de densidad\n",
    "y = ((1 / np.sqrt(2 * np.pi) * sigma)) * np.exp(-0.5 * (1 / sigma * (bins - mu))**2)\n",
    "ax.plot(bins, y, '--')\n",
    "ax.set_xlabel('valores x')\n",
    "ax.set_ylabel('funcion de densidad')\n",
    "ax.set_title(r'Histograma: $\\mu = 100$, $\\sigma = 15$')\n",
    "\n",
    "#modifica espacio para impedir solapamientos\n",
    "fig.tight_layout()\n",
    "plt.show()"
   ]
  },
  {
   "cell_type": "code",
   "execution_count": null,
   "metadata": {},
   "outputs": [],
   "source": []
  }
 ],
 "metadata": {
  "kernelspec": {
   "display_name": "Python 3",
   "language": "python",
   "name": "python3"
  },
  "language_info": {
   "codemirror_mode": {
    "name": "ipython",
    "version": 3
   },
   "file_extension": ".py",
   "mimetype": "text/x-python",
   "name": "python",
   "nbconvert_exporter": "python",
   "pygments_lexer": "ipython3",
   "version": "3.7.3"
  }
 },
 "nbformat": 4,
 "nbformat_minor": 2
}
