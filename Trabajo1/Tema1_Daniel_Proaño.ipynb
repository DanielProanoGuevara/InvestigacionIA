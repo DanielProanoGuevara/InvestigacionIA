{
 "cells": [
  {
   "cell_type": "markdown",
   "metadata": {},
   "source": [
    "# Introducción a Python y procesamiento de datos con Python\n",
    "\n",
    "\n",
    "![UNIR_logo](unir_logo.png)\n",
    "\n",
    "\n",
    "## Primera parte: Introducción a la programación en Python\n",
    "\n",
    "1. Crear una función en python que calcule el máximo común divisor de dos números\n",
    "2. Crear una función en Python que calcule el mínimo común múltiplo de dos números\n",
    "3. Basándose en datos aleatorios crear un gráfico de tarta con Matplotlib\n",
    "4. Basándose en datos aleatorios crear un Scatter Plot con Matplotlib. **Explicar para qué pueden ser útiles estos gráficos**\n",
    "5. Explicar cómo combinar 4 gráficos en una única figura"
   ]
  },
  {
   "cell_type": "markdown",
   "metadata": {},
   "source": [
    "### 1. Máximo Común Divisor"
   ]
  },
  {
   "cell_type": "code",
   "execution_count": 53,
   "metadata": {},
   "outputs": [],
   "source": [
    "#Definición de la función Máximo Común Divisor según el algoritmo de Euclides\n",
    "def MCD(num1, num2):                        #Recibe dos números enteros y positivos\n",
    "    num1 = abs(int(num1))                   #En caso que el usuario ingrese incorrectamente un número,\n",
    "    num2 = abs(int(num2))                   #Los convierte en enteros positivos\n",
    "    \n",
    "    if (num1 == 0 or num2 == 0):            #Atrapa el error de ingresar 0\n",
    "        print(\"No se puede ingresar 0\")\n",
    "        return 0                            #Sale de la función devolviendo un 0\n",
    "    \n",
    "    res = 0                                 #Inicializa la variable iterativa para el cálculo del común divisor\n",
    "                                            #La función itera calculando los restos sucesivos hasta encontrar 0\n",
    "    while (num2 != 0):\n",
    "        (num1, num2) = (num2, num1 % num2)  #Algoritmo de Euclides para el MCD\n",
    "    return num1                               "
   ]
  },
  {
   "cell_type": "code",
   "execution_count": 54,
   "metadata": {},
   "outputs": [
    {
     "name": "stdout",
     "output_type": "stream",
     "text": [
      "El Máximo Común Divisor es: 5\n",
      "El Máximo Común Divisor es: 2\n",
      "El Máximo Común Divisor es: 8\n"
     ]
    }
   ],
   "source": [
    "#Se llama a la función Máximo Común Divisor\n",
    "print(\"El Máximo Común Divisor es: \" + str(MCD(15, 20)))\n",
    "print(\"El Máximo Común Divisor es: \" + str(MCD(1312, 602)))\n",
    "print(\"El Máximo Común Divisor es: \" + str(MCD(160, 24)))"
   ]
  },
  {
   "cell_type": "markdown",
   "metadata": {},
   "source": [
    "### 2. Mínimo Común Múltiplo"
   ]
  },
  {
   "cell_type": "code",
   "execution_count": 55,
   "metadata": {},
   "outputs": [],
   "source": [
    "#El mínimo común múltiplo depende del cálculo del máximo común divisor\n",
    "def mcm(num1, num2):\n",
    "    num_1 = int(max(num1, num2))                     #Ordena los números para realizar las divisiones\n",
    "    num_2 = int(min(num1, num2))\n",
    "    try:                                             #Se establece el manejo de excepciones en caso que se intente ingresar 0\n",
    "        mcm = (num_1 // MCD(num_1, num_2)) * num_2   #Cálculo del mínimo común múltiplo utilizando el MCD\n",
    "        return mcm\n",
    "    except:\n",
    "        print(\"No es posible la división por 0\")"
   ]
  },
  {
   "cell_type": "code",
   "execution_count": 56,
   "metadata": {},
   "outputs": [
    {
     "name": "stdout",
     "output_type": "stream",
     "text": [
      "El mínimo común múltiplo es: 60\n",
      "El mínimo común múltiplo es: 394912\n",
      "El mínimo común múltiplo es: 480\n"
     ]
    }
   ],
   "source": [
    "#Se llama a la función mínimo común múltiplo\n",
    "print(\"El mínimo común múltiplo es: \" + str(mcm(15, 20)))\n",
    "print(\"El mínimo común múltiplo es: \" + str(mcm(1312, 602)))\n",
    "print(\"El mínimo común múltiplo es: \" + str(mcm(160, 24)))"
   ]
  },
  {
   "cell_type": "markdown",
   "metadata": {},
   "source": [
    "### 3. Gráfico de tarta con Matplotlib"
   ]
  },
  {
   "cell_type": "code",
   "execution_count": 66,
   "metadata": {},
   "outputs": [
    {
     "data": {
      "image/png": "[encoded data removed]",
      "text/plain": [
       "<Figure size 432x288 with 1 Axes>"
      ]
     },
     "metadata": {},
     "output_type": "display_data"
    }
   ],
   "source": [
    "import matplotlib.pyplot as plt\n",
    "import random as rn\n",
    "\n",
    "asignaturas = [\"Cálculo\", \"Álgebra\", \"Programación\", \"Señales\", \"Física\"]\n",
    "tiempo_dedicado = [rn.randint(0, 100) for _ in range(5)]\n",
    "\n",
    "desfase = (0.1, 0, 0.1, 0, 0.1)\n",
    "plt.pie(tiempo_dedicado, labels = asignaturas, autopct = \"%0.1f %%\", explode = desfase)\n",
    "plt.axis(\"equal\")\n",
    "plt.title(\"Tiempo dedicado a cada asignatura\")\n",
    "plt.show()"
   ]
  },
  {
   "cell_type": "code",
   "execution_count": null,
   "metadata": {},
   "outputs": [],
   "source": []
  },
  {
   "cell_type": "code",
   "execution_count": null,
   "metadata": {},
   "outputs": [],
   "source": []
  }
 ],
 "metadata": {
  "kernelspec": {
   "display_name": "Python 3",
   "language": "python",
   "name": "python3"
  },
  "language_info": {
   "codemirror_mode": {
    "name": "ipython",
    "version": 3
   },
   "file_extension": ".py",
   "mimetype": "text/x-python",
   "name": "python",
   "nbconvert_exporter": "python",
   "pygments_lexer": "ipython3",
   "version": "3.7.3"
  }
 },
 "nbformat": 4,
 "nbformat_minor": 2
}
